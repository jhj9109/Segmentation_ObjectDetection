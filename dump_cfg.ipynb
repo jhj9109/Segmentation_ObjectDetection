{
 "cells": [
  {
   "cell_type": "code",
   "execution_count": null,
   "id": "d713b0c0-e2c6-4ef5-a6d1-2ebf4096fd2b",
   "metadata": {},
   "outputs": [],
   "source": [
    "import os\n",
    "from mmcv import Config\n",
    "\n",
    "cfg_path2 = 'trash/faster_rcnn'\n",
    "cfg_name2 = 'faster_rcnn_x101_32x4d_fpn_dcn_diou_soft_nms_adam2_trash_aug1'\n",
    "\n",
    "cfg2 = Config.fromfile(os.path.join(\"./configs\",cfg_path2, cfg_name2+'.py'))\n",
    "print(cfg2.dump())"
   ]
  }
 ],
 "metadata": {
  "kernelspec": {
   "display_name": "Python 3",
   "language": "python",
   "name": "python3"
  },
  "language_info": {
   "codemirror_mode": {
    "name": "ipython",
    "version": 3
   },
   "file_extension": ".py",
   "mimetype": "text/x-python",
   "name": "python",
   "nbconvert_exporter": "python",
   "pygments_lexer": "ipython3",
   "version": "3.8.5"
  }
 },
 "nbformat": 4,
 "nbformat_minor": 5
}
