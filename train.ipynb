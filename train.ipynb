{
 "cells": [
  {
   "cell_type": "code",
   "execution_count": 1,
   "metadata": {
    "pycharm": {
     "name": "#%%\n"
    }
   },
   "outputs": [
    {
     "name": "stderr",
     "output_type": "stream",
     "text": [
      "/opt/conda/lib/python3.7/site-packages/mmcv/utils/registry.py:250: UserWarning: The old API of register_module(module, force=False) is deprecated and will be removed, please use the new API register_module(name=None, force=False, module=None) instead.\n",
      "  'The old API of register_module(module, force=False) '\n",
      "\u001b[34m\u001b[1mwandb\u001b[0m: Currently logged in as: \u001b[33mjhj91_09\u001b[0m (use `wandb login --relogin` to force relogin)\n"
     ]
    },
    {
     "data": {
      "text/plain": [
       "True"
      ]
     },
     "execution_count": 1,
     "metadata": {},
     "output_type": "execute_result"
    }
   ],
   "source": [
    "from mmcv import Config\n",
    "from mmdet.datasets import build_dataset\n",
    "from mmdet.models import build_detector\n",
    "from mmdet.apis import train_detector, set_random_seed\n",
    "from mmdet.datasets import (build_dataloader, build_dataset,\n",
    "                            replace_ImageToTensor)\n",
    "from mmdet.datasets.pipelines import Albu\n",
    "from mycode.set_options import set_train, set_num_classes\n",
    "import wandb\n",
    "import os\n",
    "\n",
    "classes = (\"UNKNOWN\", \"General trash\", \"Paper\", \"Paper pack\", \"Metal\", \"Glass\",\n",
    "           \"Plastic\", \"Styrofoam\", \"Plastic bag\", \"Battery\", \"Clothing\")\n",
    "PREFIX = '../../input/data/'\n",
    "\n",
    "wandb.login()"
   ]
  },
  {
   "cell_type": "code",
   "execution_count": null,
   "metadata": {},
   "outputs": [],
   "source": [
    "# 7 pafpn & dcn & soft_nms & ciou & aug1\n",
    "model_name = 'detectors'\n",
    "cfg_name='detectors_x101_64x4d_adam2'\n",
    "##################################################################################################################################\n",
    "\n",
    "if not os.path.isdir(f'./work_dirs/{cfg_name}'):                                                           \n",
    "    os.mkdir(f'./work_dirs/{cfg_name}')\n",
    "\n",
    "cfg = Config.fromfile(f'./configs/trash/{model_name}/{cfg_name}.py')\n",
    "\n",
    "set_train(cfg, cfg_name, samples_per_gpu=4, workers_per_gpu=4)\n",
    "\n",
    "cfg.load_from = f'./work_dirs/{cfg_name}/epoch_2.pth'\n",
    "\n",
    "cfg.runner.max_epochs=200\n",
    "model = build_detector(cfg.model)\n",
    "datasets = [build_dataset(cfg.data.train)]\n",
    "train_detector(model, datasets[0], cfg, distributed=False, validate=True)"
   ]
  },
  {
   "cell_type": "markdown",
   "metadata": {},
   "source": [
    "runner "
   ]
  }
 ],
 "metadata": {
  "kernelspec": {
   "display_name": "Python 3",
   "language": "python",
   "name": "python3"
  },
  "language_info": {
   "codemirror_mode": {
    "name": "ipython",
    "version": 3
   },
   "file_extension": ".py",
   "mimetype": "text/x-python",
   "name": "python",
   "nbconvert_exporter": "python",
   "pygments_lexer": "ipython3",
   "version": "3.8.5"
  },
  "pycharm": {
   "stem_cell": {
    "cell_type": "raw",
    "metadata": {
     "collapsed": false
    },
    "source": []
   }
  }
 },
 "nbformat": 4,
 "nbformat_minor": 4
}
